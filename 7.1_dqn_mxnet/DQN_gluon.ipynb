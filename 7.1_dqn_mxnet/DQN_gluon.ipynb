{
 "metadata": {
  "name": "",
  "signature": "sha256:fcf22de7eca026d3c2144fb3c418bf33b4581db05ab0b8d84ed802c5e95bd506"
 },
 "nbformat": 3,
 "nbformat_minor": 0,
 "worksheets": [
  {
   "cells": [
    {
     "cell_type": "code",
     "collapsed": false,
     "input": [
      "import mxnet as mx\n",
      "from mxnet import nd, autograd\n",
      "from mxnet import gluon\n",
      "import numpy as np\n",
      "import gym"
     ],
     "language": "python",
     "metadata": {},
     "outputs": [],
     "prompt_number": 1
    },
    {
     "cell_type": "code",
     "collapsed": false,
     "input": [
      "BATCH_SIZE = 32\n",
      "LR = 0.01\n",
      "EPSILON = 0.9\n",
      "DISCOUNTOR_FACTOR = 0.9\n",
      "TARGET_REPLACE_ITER = 100\n",
      "MEMORY_CAPACITY = 2000"
     ],
     "language": "python",
     "metadata": {},
     "outputs": [],
     "prompt_number": 2
    },
    {
     "cell_type": "code",
     "collapsed": false,
     "input": [
      "# env\n",
      "\n",
      "env = gym.make('CartPole-v0')\n",
      "env = env.unwrapped\n",
      "\n",
      "N_ACTIONS = env.action_space.n\n",
      "N_STATES = env.observation_space.shape[0]\n",
      "ctx = mx.cpu()"
     ],
     "language": "python",
     "metadata": {},
     "outputs": [
      {
       "output_type": "stream",
       "stream": "stderr",
       "text": [
        "INFO:gym.envs.registration:Making new env: CartPole-v0\n"
       ]
      },
      {
       "output_type": "stream",
       "stream": "stderr",
       "text": [
        "[2017-08-27 22:52:35,203] Making new env: CartPole-v0\n"
       ]
      }
     ],
     "prompt_number": 4
    },
    {
     "cell_type": "code",
     "collapsed": false,
     "input": [
      "# Net\n",
      "def Net():\n",
      "    net = gluon.nn.Sequential()\n",
      "    with net.name_scope():\n",
      "        net.add(gluon.nn.Dense(10, in_units=4,activation=\"relu\"))\n",
      "        net.add(gluon.nn.Dense(N_ACTIONS, in_units=10))\n",
      "    net.collect_params().initialize(mx.init.Xavier(magnitude=2.24), ctx=ctx)\n",
      "    return net"
     ],
     "language": "python",
     "metadata": {},
     "outputs": [],
     "prompt_number": 17
    },
    {
     "cell_type": "code",
     "collapsed": false,
     "input": [
      "class DQN(object):\n",
      "    def __init__(self):\n",
      "        self.eval_net, self.target_net = Net(), Net()\n",
      "        \n",
      "        self.learn_step_counter = 0\n",
      "        self.memory_counter = 0\n",
      "        self.memory = np.zeros((MEMORY_CAPACITY, N_STATES * 2 + 2))\n",
      "        self.optimizer = 'sgd'\n",
      "        self.loss = gluon.loss.L2Loss()\n",
      "        \n",
      "    def choose_action(self, observation):\n",
      "        observation = nd.array(observation).reshape((1,4))\n",
      "        print(observation)\n",
      "        if np.random.uniform() < EPSILON:\n",
      "            action_value = self.eval_net(observation)\n",
      "            print(observation)\n",
      "            print(action_value)\n",
      "            print(nd.argmax(action_value,axis=1))\n",
      "            action = nd.argmax(action_value, axis=1)[0].astype(int).asnumpy()\n",
      "        else:\n",
      "            action = np.random.randint(0, N_ACTIONS)\n",
      "        \n",
      "        return action\n",
      "    \n",
      "    def store_transition(self, s, a, r, s_):\n",
      "        transition = np.hstack((s, [a, r], s_))\n",
      "        \n",
      "        index = self.memory_counter % MEMORY_CAPACITY\n",
      "        self.memory[index, :] = transition\n",
      "        self.memory_counter += 1\n",
      "    \n",
      "    def learn(self):\n",
      "        if self.learn_step_counter % TARGET_REPLACE_ITER == 0:\n",
      "            self.target_net.initialize(self.eval_net.collect_params())\n",
      "        \n",
      "        self.learn_step_counter += 1\n",
      "        \n",
      "        sample_index = np.random.choice(MEMORY_CAPACITY, BATCH_SIZE)\n",
      "        b_memory = self.memory[sample_index, :]\n",
      "        b_s = nd.array(b_memory[:, :N_STATES])\n",
      "        b_a = nd.array(b_memory[:, N_STATES:N_STATES+1].astype(int))\n",
      "        b_r = nd.array(b_memory[:, N_STATES+1])\n",
      "        b_s_ = nd.array(b_memory[:, -N_STATES:])\n",
      "        \n",
      "        \n",
      "        q_next = self.target_net(b_s_)\n",
      "        q_target = b_r + DISCOUNTOR_FACTOR * q_next.max()\n",
      "        \n",
      "        eval_trainer = gluon.Trainer(self.eval_net.collect_params(), 'sgd', {'learning_rate': 0.01})\n",
      "        train_data = mx.gluon.data.DataLoader(mx.gluon.data.ArrayDataset(b_s, q_target), batch_size=1, shuffle=True)\n",
      "        for data, label in train_data:\n",
      "            data = data.as_in_context(ctx)\n",
      "            label = predict.as_in_context(ctx)\n",
      "            \n",
      "            with autograd.record():\n",
      "                q_eval = self.eval_net(data)\n",
      "                loss = self.loss(q_eval, label)\n",
      "            \n",
      "            loss.backward()\n",
      "            eval_trainer.step(1)\n"
     ],
     "language": "python",
     "metadata": {},
     "outputs": [],
     "prompt_number": 24
    },
    {
     "cell_type": "code",
     "collapsed": false,
     "input": [
      "dqn = DQN()"
     ],
     "language": "python",
     "metadata": {},
     "outputs": [],
     "prompt_number": 25
    },
    {
     "cell_type": "code",
     "collapsed": false,
     "input": [
      "for i_episode in range(400):\n",
      "    s = env.reset()\n",
      "    ep_r = 0\n",
      "    while True:\n",
      "        a = dqn.choose_action(s)\n",
      "\n",
      "        s_, r, done, info = env.step(a)\n",
      "\n",
      "        x, x_dot, theta, theta_dot = s_\n",
      "        r1 = (env.x_threshold - abs(x))/env.x_threshold - 0.8\n",
      "        r2 = (env.theta_threshold_radians - abs(theta)) / env.theta_threshold_radians - 0.5\n",
      "        r = r1 + r2\n",
      "\n",
      "        dqn.store_transition(s, a, r, s_)\n",
      "\n",
      "        ep_r += r\n",
      "        if dqn.memory_counter > MEMORY_CAPACITY:\n",
      "            dqn.learn()\n",
      "            if done:\n",
      "                print('Ep: ', i_episode,\n",
      "                      '| Ep_reward: ', round(ep_r, 2))\n",
      "\n",
      "        if done:\n",
      "            break\n",
      "\n",
      "        s = s_"
     ],
     "language": "python",
     "metadata": {},
     "outputs": [
      {
       "output_type": "stream",
       "stream": "stdout",
       "text": [
        "\n",
        "[[ 0.03440304  0.03000603 -0.04798666  0.00120571]]\n",
        "<NDArray 1x4 @cpu(0)>\n",
        "\n",
        "[[ 0.03440304  0.03000603 -0.04798666  0.00120571]]\n",
        "<NDArray 1x4 @cpu(0)>\n",
        "\n",
        "[[ 0.0213625  -0.00446491]]\n",
        "<NDArray 1x2 @cpu(0)>\n",
        "\n",
        "[ 0.]\n",
        "<NDArray 1 @cpu(0)>\n"
       ]
      },
      {
       "ename": "AssertionError",
       "evalue": "array([0]) (<type 'numpy.ndarray'>) invalid",
       "output_type": "pyerr",
       "traceback": [
        "\u001b[0;31m---------------------------------------------------------------------------\u001b[0m\n\u001b[0;31mAssertionError\u001b[0m                            Traceback (most recent call last)",
        "\u001b[0;32m<ipython-input-26-31b7404c5a05>\u001b[0m in \u001b[0;36m<module>\u001b[0;34m()\u001b[0m\n\u001b[1;32m      5\u001b[0m         \u001b[0ma\u001b[0m \u001b[0;34m=\u001b[0m \u001b[0mdqn\u001b[0m\u001b[0;34m.\u001b[0m\u001b[0mchoose_action\u001b[0m\u001b[0;34m(\u001b[0m\u001b[0ms\u001b[0m\u001b[0;34m)\u001b[0m\u001b[0;34m\u001b[0m\u001b[0m\n\u001b[1;32m      6\u001b[0m \u001b[0;34m\u001b[0m\u001b[0m\n\u001b[0;32m----> 7\u001b[0;31m         \u001b[0ms_\u001b[0m\u001b[0;34m,\u001b[0m \u001b[0mr\u001b[0m\u001b[0;34m,\u001b[0m \u001b[0mdone\u001b[0m\u001b[0;34m,\u001b[0m \u001b[0minfo\u001b[0m \u001b[0;34m=\u001b[0m \u001b[0menv\u001b[0m\u001b[0;34m.\u001b[0m\u001b[0mstep\u001b[0m\u001b[0;34m(\u001b[0m\u001b[0ma\u001b[0m\u001b[0;34m)\u001b[0m\u001b[0;34m\u001b[0m\u001b[0m\n\u001b[0m\u001b[1;32m      8\u001b[0m \u001b[0;34m\u001b[0m\u001b[0m\n\u001b[1;32m      9\u001b[0m         \u001b[0mx\u001b[0m\u001b[0;34m,\u001b[0m \u001b[0mx_dot\u001b[0m\u001b[0;34m,\u001b[0m \u001b[0mtheta\u001b[0m\u001b[0;34m,\u001b[0m \u001b[0mtheta_dot\u001b[0m \u001b[0;34m=\u001b[0m \u001b[0ms_\u001b[0m\u001b[0;34m\u001b[0m\u001b[0m\n",
        "\u001b[0;32m/home/syzhang/.local/lib/python2.7/site-packages/gym/core.pyc\u001b[0m in \u001b[0;36mstep\u001b[0;34m(self, action)\u001b[0m\n\u001b[1;32m     94\u001b[0m             \u001b[0minfo\u001b[0m \u001b[0;34m(\u001b[0m\u001b[0mdict\u001b[0m\u001b[0;34m)\u001b[0m\u001b[0;34m:\u001b[0m \u001b[0mcontains\u001b[0m \u001b[0mauxiliary\u001b[0m \u001b[0mdiagnostic\u001b[0m \u001b[0minformation\u001b[0m \u001b[0;34m(\u001b[0m\u001b[0mhelpful\u001b[0m \u001b[0;32mfor\u001b[0m \u001b[0mdebugging\u001b[0m\u001b[0;34m,\u001b[0m \u001b[0;32mand\u001b[0m \u001b[0msometimes\u001b[0m \u001b[0mlearning\u001b[0m\u001b[0;34m)\u001b[0m\u001b[0;34m\u001b[0m\u001b[0m\n\u001b[1;32m     95\u001b[0m         \"\"\"\n\u001b[0;32m---> 96\u001b[0;31m         \u001b[0;32mreturn\u001b[0m \u001b[0mself\u001b[0m\u001b[0;34m.\u001b[0m\u001b[0m_step\u001b[0m\u001b[0;34m(\u001b[0m\u001b[0maction\u001b[0m\u001b[0;34m)\u001b[0m\u001b[0;34m\u001b[0m\u001b[0m\n\u001b[0m\u001b[1;32m     97\u001b[0m \u001b[0;34m\u001b[0m\u001b[0m\n\u001b[1;32m     98\u001b[0m     \u001b[0;32mdef\u001b[0m \u001b[0mreset\u001b[0m\u001b[0;34m(\u001b[0m\u001b[0mself\u001b[0m\u001b[0;34m)\u001b[0m\u001b[0;34m:\u001b[0m\u001b[0;34m\u001b[0m\u001b[0m\n",
        "\u001b[0;32m/home/syzhang/.local/lib/python2.7/site-packages/gym/envs/classic_control/cartpole.pyc\u001b[0m in \u001b[0;36m_step\u001b[0;34m(self, action)\u001b[0m\n\u001b[1;32m     55\u001b[0m \u001b[0;34m\u001b[0m\u001b[0m\n\u001b[1;32m     56\u001b[0m     \u001b[0;32mdef\u001b[0m \u001b[0m_step\u001b[0m\u001b[0;34m(\u001b[0m\u001b[0mself\u001b[0m\u001b[0;34m,\u001b[0m \u001b[0maction\u001b[0m\u001b[0;34m)\u001b[0m\u001b[0;34m:\u001b[0m\u001b[0;34m\u001b[0m\u001b[0m\n\u001b[0;32m---> 57\u001b[0;31m         \u001b[0;32massert\u001b[0m \u001b[0mself\u001b[0m\u001b[0;34m.\u001b[0m\u001b[0maction_space\u001b[0m\u001b[0;34m.\u001b[0m\u001b[0mcontains\u001b[0m\u001b[0;34m(\u001b[0m\u001b[0maction\u001b[0m\u001b[0;34m)\u001b[0m\u001b[0;34m,\u001b[0m \u001b[0;34m\"%r (%s) invalid\"\u001b[0m\u001b[0;34m%\u001b[0m\u001b[0;34m(\u001b[0m\u001b[0maction\u001b[0m\u001b[0;34m,\u001b[0m \u001b[0mtype\u001b[0m\u001b[0;34m(\u001b[0m\u001b[0maction\u001b[0m\u001b[0;34m)\u001b[0m\u001b[0;34m)\u001b[0m\u001b[0;34m\u001b[0m\u001b[0m\n\u001b[0m\u001b[1;32m     58\u001b[0m         \u001b[0mstate\u001b[0m \u001b[0;34m=\u001b[0m \u001b[0mself\u001b[0m\u001b[0;34m.\u001b[0m\u001b[0mstate\u001b[0m\u001b[0;34m\u001b[0m\u001b[0m\n\u001b[1;32m     59\u001b[0m         \u001b[0mx\u001b[0m\u001b[0;34m,\u001b[0m \u001b[0mx_dot\u001b[0m\u001b[0;34m,\u001b[0m \u001b[0mtheta\u001b[0m\u001b[0;34m,\u001b[0m \u001b[0mtheta_dot\u001b[0m \u001b[0;34m=\u001b[0m \u001b[0mstate\u001b[0m\u001b[0;34m\u001b[0m\u001b[0m\n",
        "\u001b[0;31mAssertionError\u001b[0m: array([0]) (<type 'numpy.ndarray'>) invalid"
       ]
      }
     ],
     "prompt_number": 26
    },
    {
     "cell_type": "code",
     "collapsed": false,
     "input": [],
     "language": "python",
     "metadata": {},
     "outputs": []
    }
   ],
   "metadata": {}
  }
 ]
}